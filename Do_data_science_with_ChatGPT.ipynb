{
  "nbformat": 4,
  "nbformat_minor": 0,
  "metadata": {
    "colab": {
      "provenance": []
    },
    "kernelspec": {
      "name": "python3",
      "display_name": "Python 3"
    },
    "language_info": {
      "name": "python"
    }
  },
  "cells": [
    {
      "cell_type": "markdown",
      "source": [
        "# Importing necessary libraries"
      ],
      "metadata": {
        "id": "dm6anNrDtdSR"
      }
    },
    {
      "cell_type": "code",
      "execution_count": 19,
      "metadata": {
        "id": "WjLe6WojsF7V"
      },
      "outputs": [],
      "source": [
        "import pandas as pd\n",
        "import numpy as np\n",
        "import seaborn as sns\n",
        "import matplotlib.pyplot as plt\n",
        "from sklearn.model_selection import train_test_split, GridSearchCV\n",
        "from sklearn.preprocessing import StandardScaler\n",
        "from sklearn.metrics import classification_report, confusion_matrix, roc_auc_score\n",
        "from sklearn.linear_model import LogisticRegression\n",
        "from sklearn.ensemble import RandomForestClassifier\n",
        "from sklearn.svm import SVC\n",
        "from sklearn.neighbors import KNeighborsClassifier\n",
        "from sklearn.neural_network import MLPClassifier"
      ]
    },
    {
      "cell_type": "code",
      "source": [
        "#write a code to upload a file from my computer\n",
        "from google.colab import files\n",
        "uploaded = files.upload()"
      ],
      "metadata": {
        "colab": {
          "base_uri": "https://localhost:8080/",
          "height": 73
        },
        "id": "nr5PwIGltVpD",
        "outputId": "b469b12d-6fc9-420f-e5c4-b7f5150cf53a"
      },
      "execution_count": null,
      "outputs": [
        {
          "output_type": "display_data",
          "data": {
            "text/plain": [
              "<IPython.core.display.HTML object>"
            ],
            "text/html": [
              "\n",
              "     <input type=\"file\" id=\"files-7a356986-ff12-4c10-88c1-32b076bace1f\" name=\"files[]\" multiple disabled\n",
              "        style=\"border:none\" />\n",
              "     <output id=\"result-7a356986-ff12-4c10-88c1-32b076bace1f\">\n",
              "      Upload widget is only available when the cell has been executed in the\n",
              "      current browser session. Please rerun this cell to enable.\n",
              "      </output>\n",
              "      <script>// Copyright 2017 Google LLC\n",
              "//\n",
              "// Licensed under the Apache License, Version 2.0 (the \"License\");\n",
              "// you may not use this file except in compliance with the License.\n",
              "// You may obtain a copy of the License at\n",
              "//\n",
              "//      http://www.apache.org/licenses/LICENSE-2.0\n",
              "//\n",
              "// Unless required by applicable law or agreed to in writing, software\n",
              "// distributed under the License is distributed on an \"AS IS\" BASIS,\n",
              "// WITHOUT WARRANTIES OR CONDITIONS OF ANY KIND, either express or implied.\n",
              "// See the License for the specific language governing permissions and\n",
              "// limitations under the License.\n",
              "\n",
              "/**\n",
              " * @fileoverview Helpers for google.colab Python module.\n",
              " */\n",
              "(function(scope) {\n",
              "function span(text, styleAttributes = {}) {\n",
              "  const element = document.createElement('span');\n",
              "  element.textContent = text;\n",
              "  for (const key of Object.keys(styleAttributes)) {\n",
              "    element.style[key] = styleAttributes[key];\n",
              "  }\n",
              "  return element;\n",
              "}\n",
              "\n",
              "// Max number of bytes which will be uploaded at a time.\n",
              "const MAX_PAYLOAD_SIZE = 100 * 1024;\n",
              "\n",
              "function _uploadFiles(inputId, outputId) {\n",
              "  const steps = uploadFilesStep(inputId, outputId);\n",
              "  const outputElement = document.getElementById(outputId);\n",
              "  // Cache steps on the outputElement to make it available for the next call\n",
              "  // to uploadFilesContinue from Python.\n",
              "  outputElement.steps = steps;\n",
              "\n",
              "  return _uploadFilesContinue(outputId);\n",
              "}\n",
              "\n",
              "// This is roughly an async generator (not supported in the browser yet),\n",
              "// where there are multiple asynchronous steps and the Python side is going\n",
              "// to poll for completion of each step.\n",
              "// This uses a Promise to block the python side on completion of each step,\n",
              "// then passes the result of the previous step as the input to the next step.\n",
              "function _uploadFilesContinue(outputId) {\n",
              "  const outputElement = document.getElementById(outputId);\n",
              "  const steps = outputElement.steps;\n",
              "\n",
              "  const next = steps.next(outputElement.lastPromiseValue);\n",
              "  return Promise.resolve(next.value.promise).then((value) => {\n",
              "    // Cache the last promise value to make it available to the next\n",
              "    // step of the generator.\n",
              "    outputElement.lastPromiseValue = value;\n",
              "    return next.value.response;\n",
              "  });\n",
              "}\n",
              "\n",
              "/**\n",
              " * Generator function which is called between each async step of the upload\n",
              " * process.\n",
              " * @param {string} inputId Element ID of the input file picker element.\n",
              " * @param {string} outputId Element ID of the output display.\n",
              " * @return {!Iterable<!Object>} Iterable of next steps.\n",
              " */\n",
              "function* uploadFilesStep(inputId, outputId) {\n",
              "  const inputElement = document.getElementById(inputId);\n",
              "  inputElement.disabled = false;\n",
              "\n",
              "  const outputElement = document.getElementById(outputId);\n",
              "  outputElement.innerHTML = '';\n",
              "\n",
              "  const pickedPromise = new Promise((resolve) => {\n",
              "    inputElement.addEventListener('change', (e) => {\n",
              "      resolve(e.target.files);\n",
              "    });\n",
              "  });\n",
              "\n",
              "  const cancel = document.createElement('button');\n",
              "  inputElement.parentElement.appendChild(cancel);\n",
              "  cancel.textContent = 'Cancel upload';\n",
              "  const cancelPromise = new Promise((resolve) => {\n",
              "    cancel.onclick = () => {\n",
              "      resolve(null);\n",
              "    };\n",
              "  });\n",
              "\n",
              "  // Wait for the user to pick the files.\n",
              "  const files = yield {\n",
              "    promise: Promise.race([pickedPromise, cancelPromise]),\n",
              "    response: {\n",
              "      action: 'starting',\n",
              "    }\n",
              "  };\n",
              "\n",
              "  cancel.remove();\n",
              "\n",
              "  // Disable the input element since further picks are not allowed.\n",
              "  inputElement.disabled = true;\n",
              "\n",
              "  if (!files) {\n",
              "    return {\n",
              "      response: {\n",
              "        action: 'complete',\n",
              "      }\n",
              "    };\n",
              "  }\n",
              "\n",
              "  for (const file of files) {\n",
              "    const li = document.createElement('li');\n",
              "    li.append(span(file.name, {fontWeight: 'bold'}));\n",
              "    li.append(span(\n",
              "        `(${file.type || 'n/a'}) - ${file.size} bytes, ` +\n",
              "        `last modified: ${\n",
              "            file.lastModifiedDate ? file.lastModifiedDate.toLocaleDateString() :\n",
              "                                    'n/a'} - `));\n",
              "    const percent = span('0% done');\n",
              "    li.appendChild(percent);\n",
              "\n",
              "    outputElement.appendChild(li);\n",
              "\n",
              "    const fileDataPromise = new Promise((resolve) => {\n",
              "      const reader = new FileReader();\n",
              "      reader.onload = (e) => {\n",
              "        resolve(e.target.result);\n",
              "      };\n",
              "      reader.readAsArrayBuffer(file);\n",
              "    });\n",
              "    // Wait for the data to be ready.\n",
              "    let fileData = yield {\n",
              "      promise: fileDataPromise,\n",
              "      response: {\n",
              "        action: 'continue',\n",
              "      }\n",
              "    };\n",
              "\n",
              "    // Use a chunked sending to avoid message size limits. See b/62115660.\n",
              "    let position = 0;\n",
              "    do {\n",
              "      const length = Math.min(fileData.byteLength - position, MAX_PAYLOAD_SIZE);\n",
              "      const chunk = new Uint8Array(fileData, position, length);\n",
              "      position += length;\n",
              "\n",
              "      const base64 = btoa(String.fromCharCode.apply(null, chunk));\n",
              "      yield {\n",
              "        response: {\n",
              "          action: 'append',\n",
              "          file: file.name,\n",
              "          data: base64,\n",
              "        },\n",
              "      };\n",
              "\n",
              "      let percentDone = fileData.byteLength === 0 ?\n",
              "          100 :\n",
              "          Math.round((position / fileData.byteLength) * 100);\n",
              "      percent.textContent = `${percentDone}% done`;\n",
              "\n",
              "    } while (position < fileData.byteLength);\n",
              "  }\n",
              "\n",
              "  // All done.\n",
              "  yield {\n",
              "    response: {\n",
              "      action: 'complete',\n",
              "    }\n",
              "  };\n",
              "}\n",
              "\n",
              "scope.google = scope.google || {};\n",
              "scope.google.colab = scope.google.colab || {};\n",
              "scope.google.colab._files = {\n",
              "  _uploadFiles,\n",
              "  _uploadFilesContinue,\n",
              "};\n",
              "})(self);\n",
              "</script> "
            ]
          },
          "metadata": {}
        },
        {
          "output_type": "stream",
          "name": "stdout",
          "text": [
            "Saving heart_disease_uci.csv to heart_disease_uci.csv\n"
          ]
        }
      ]
    },
    {
      "cell_type": "markdown",
      "source": [
        "# Step 1: Load the dataset\n",
        "# Upload the 'heart_disease_uci.csv' file to your Colab environment first."
      ],
      "metadata": {
        "id": "Y2E39uwcs0bS"
      }
    },
    {
      "cell_type": "code",
      "source": [
        "# Step 1: Load the dataset\n",
        "import pandas as pd\n",
        "\n",
        "# Load your dataset (assuming the file name is 'heart_disease_uci.csv' and it's uploaded in Colab)\n",
        "df = pd.read_csv('/content/heart_disease_uci.csv')\n",
        "\n",
        "# Display the first few rows of the dataset to verify successful loading\n",
        "print(df.head())\n",
        "\n",
        "# Check for any missing values in the dataset\n",
        "print(df.isnull().sum())\n"
      ],
      "metadata": {
        "colab": {
          "base_uri": "https://localhost:8080/"
        },
        "id": "SrMXjxDCjrI_",
        "outputId": "858a33f0-3b86-4017-b4cb-d71364da9858"
      },
      "execution_count": 20,
      "outputs": [
        {
          "output_type": "stream",
          "name": "stdout",
          "text": [
            "   id  age     sex    dataset               cp  trestbps   chol    fbs  \\\n",
            "0   1   63    Male  Cleveland   typical angina     145.0  233.0   True   \n",
            "1   2   67    Male  Cleveland     asymptomatic     160.0  286.0  False   \n",
            "2   3   67    Male  Cleveland     asymptomatic     120.0  229.0  False   \n",
            "3   4   37    Male  Cleveland      non-anginal     130.0  250.0  False   \n",
            "4   5   41  Female  Cleveland  atypical angina     130.0  204.0  False   \n",
            "\n",
            "          restecg  thalch  exang  oldpeak        slope   ca  \\\n",
            "0  lv hypertrophy   150.0  False      2.3  downsloping  0.0   \n",
            "1  lv hypertrophy   108.0   True      1.5         flat  3.0   \n",
            "2  lv hypertrophy   129.0   True      2.6         flat  2.0   \n",
            "3          normal   187.0  False      3.5  downsloping  0.0   \n",
            "4  lv hypertrophy   172.0  False      1.4    upsloping  0.0   \n",
            "\n",
            "                thal  num  \n",
            "0       fixed defect    0  \n",
            "1             normal    2  \n",
            "2  reversable defect    1  \n",
            "3             normal    0  \n",
            "4             normal    0  \n",
            "id            0\n",
            "age           0\n",
            "sex           0\n",
            "dataset       0\n",
            "cp            0\n",
            "trestbps     59\n",
            "chol         30\n",
            "fbs          90\n",
            "restecg       2\n",
            "thalch       55\n",
            "exang        55\n",
            "oldpeak      62\n",
            "slope       309\n",
            "ca          611\n",
            "thal        486\n",
            "num           0\n",
            "dtype: int64\n"
          ]
        }
      ]
    },
    {
      "cell_type": "markdown",
      "source": [
        "# Step 2: Data Understanding and Preprocessing\n",
        "# Basic info and check for missing values"
      ],
      "metadata": {
        "id": "oMERcnMhs6ty"
      }
    },
    {
      "cell_type": "code",
      "source": [
        "print(df.info())\n",
        "print(df.isnull().sum())"
      ],
      "metadata": {
        "colab": {
          "base_uri": "https://localhost:8080/"
        },
        "id": "tFrH98FNsSO5",
        "outputId": "a3b76edd-3314-4748-a8a7-36ede984e0e1"
      },
      "execution_count": 21,
      "outputs": [
        {
          "output_type": "stream",
          "name": "stdout",
          "text": [
            "<class 'pandas.core.frame.DataFrame'>\n",
            "RangeIndex: 920 entries, 0 to 919\n",
            "Data columns (total 16 columns):\n",
            " #   Column    Non-Null Count  Dtype  \n",
            "---  ------    --------------  -----  \n",
            " 0   id        920 non-null    int64  \n",
            " 1   age       920 non-null    int64  \n",
            " 2   sex       920 non-null    object \n",
            " 3   dataset   920 non-null    object \n",
            " 4   cp        920 non-null    object \n",
            " 5   trestbps  861 non-null    float64\n",
            " 6   chol      890 non-null    float64\n",
            " 7   fbs       830 non-null    object \n",
            " 8   restecg   918 non-null    object \n",
            " 9   thalch    865 non-null    float64\n",
            " 10  exang     865 non-null    object \n",
            " 11  oldpeak   858 non-null    float64\n",
            " 12  slope     611 non-null    object \n",
            " 13  ca        309 non-null    float64\n",
            " 14  thal      434 non-null    object \n",
            " 15  num       920 non-null    int64  \n",
            "dtypes: float64(5), int64(3), object(8)\n",
            "memory usage: 115.1+ KB\n",
            "None\n",
            "id            0\n",
            "age           0\n",
            "sex           0\n",
            "dataset       0\n",
            "cp            0\n",
            "trestbps     59\n",
            "chol         30\n",
            "fbs          90\n",
            "restecg       2\n",
            "thalch       55\n",
            "exang        55\n",
            "oldpeak      62\n",
            "slope       309\n",
            "ca          611\n",
            "thal        486\n",
            "num           0\n",
            "dtype: int64\n"
          ]
        }
      ]
    },
    {
      "cell_type": "code",
      "source": [
        "# Encode categorical variables if present\n",
        "df = pd.get_dummies(df, drop_first=True)\n",
        "# Separate features and target variable\n",
        "X = df.drop('num', axis=1)\n",
        "y = df['num']\n"
      ],
      "metadata": {
        "id": "cyOTHEjWsURA"
      },
      "execution_count": 22,
      "outputs": []
    },
    {
      "cell_type": "markdown",
      "source": [
        "# Step 3: Train-Test Split"
      ],
      "metadata": {
        "id": "DYvAJDbqs_2n"
      }
    },
    {
      "cell_type": "code",
      "source": [
        "from sklearn.model_selection import train_test_split\n",
        "from sklearn.impute import SimpleImputer\n",
        "import pandas as pd\n",
        "\n",
        "# Step 1: Encode categorical variables using one-hot encoding\n",
        "df_encoded = pd.get_dummies(df, drop_first=True)\n",
        "\n",
        "# Step 2: Handle missing values by imputing (mean imputation)\n",
        "imputer = SimpleImputer(strategy='mean')\n",
        "\n",
        "# Apply imputation to all the columns with missing values\n",
        "df_imputed = pd.DataFrame(imputer.fit_transform(df_encoded), columns=df_encoded.columns)\n",
        "\n",
        "# Split the data into features (X) and target (y)\n",
        "# Assuming 'num' is the target column (indicating the presence of heart disease)\n",
        "X = df_imputed.drop(columns=['num'])  # Features\n",
        "y = df_imputed['num']  # Target\n",
        "\n",
        "# Now split the data into training and testing sets (80% train, 20% test)\n",
        "X_train, X_test, y_train, y_test = train_test_split(X, y, test_size=0.2, random_state=42)\n",
        "\n",
        "# Check the shape of the train and test sets\n",
        "print(f\"Training set size: {X_train.shape}\")\n",
        "print(f\"Test set size: {X_test.shape}\")"
      ],
      "metadata": {
        "colab": {
          "base_uri": "https://localhost:8080/"
        },
        "id": "pZ8pnzb0k1t5",
        "outputId": "2128fc02-8107-4207-dc6d-b41f2dd2d90a"
      },
      "execution_count": 23,
      "outputs": [
        {
          "output_type": "stream",
          "name": "stdout",
          "text": [
            "Training set size: (736, 22)\n",
            "Test set size: (184, 22)\n"
          ]
        }
      ]
    },
    {
      "cell_type": "markdown",
      "source": [],
      "metadata": {
        "id": "jIwaAeI8lYwQ"
      }
    },
    {
      "cell_type": "code",
      "source": [
        "from sklearn.preprocessing import StandardScaler\n",
        "\n",
        "# Step 3: Scale the data\n",
        "scaler = StandardScaler()\n",
        "\n",
        "# Fit the scaler on the training data and transform both the training and testing sets\n",
        "X_train_scaled = scaler.fit_transform(X_train)\n",
        "X_test_scaled = scaler.transform(X_test)\n",
        "\n",
        "# Check the shape of the scaled data to ensure everything is correct\n",
        "print(f\"X_train_scaled shape: {X_train_scaled.shape}\")\n",
        "print(f\"X_test_scaled shape: {X_test_scaled.shape}\")"
      ],
      "metadata": {
        "colab": {
          "base_uri": "https://localhost:8080/"
        },
        "id": "jmzjrM6FlZmw",
        "outputId": "32f0b922-7051-4237-ebfc-2ded4f004e58"
      },
      "execution_count": 24,
      "outputs": [
        {
          "output_type": "stream",
          "name": "stdout",
          "text": [
            "X_train_scaled shape: (736, 22)\n",
            "X_test_scaled shape: (184, 22)\n"
          ]
        }
      ]
    },
    {
      "cell_type": "markdown",
      "source": [
        "# Step 4: Baseline Model - Logistic Regression"
      ],
      "metadata": {
        "id": "l8pbMLqCtC7t"
      }
    },
    {
      "cell_type": "code",
      "source": [
        "from sklearn.linear_model import LogisticRegression\n",
        "from sklearn.metrics import classification_report, confusion_matrix, roc_auc_score\n",
        "import seaborn as sns\n",
        "import matplotlib.pyplot as plt\n",
        "\n",
        "# Step 4: Train the logistic regression model\n",
        "logreg = LogisticRegression(max_iter=1000)  # Increase max_iter to ensure convergence\n",
        "logreg.fit(X_train_scaled, y_train)\n",
        "\n",
        "# Step 5: Make predictions on the test set\n",
        "y_pred_logreg = logreg.predict(X_test_scaled)\n",
        "\n",
        "# Step 6: Evaluate the model\n",
        "# Classification report\n",
        "print(\"Logistic Regression - Classification Report:\")\n",
        "print(classification_report(y_test, y_pred_logreg))\n",
        "\n",
        "# Compute and print the ROC-AUC score for multi-class classification\n",
        "roc_auc_logreg = roc_auc_score(y_test, logreg.predict_proba(X_test_scaled), multi_class='ovr')\n",
        "print(f\"ROC-AUC Score (Logistic Regression - Multi-Class): {roc_auc_logreg:.2f}\")\n",
        "\n",
        "\n",
        "# Confusion Matrix\n",
        "cm = confusion_matrix(y_test, y_pred_logreg)\n",
        "sns.heatmap(cm, annot=True, fmt='d', cmap='Blues')\n",
        "plt.title(\"Confusion Matrix - Logistic Regression\")\n",
        "plt.show()"
      ],
      "metadata": {
        "colab": {
          "base_uri": "https://localhost:8080/",
          "height": 695
        },
        "id": "tzYepGDCscGt",
        "outputId": "eec5957c-80c0-4194-b5ec-9ce04da49cb2"
      },
      "execution_count": 25,
      "outputs": [
        {
          "output_type": "stream",
          "name": "stdout",
          "text": [
            "Logistic Regression - Classification Report:\n",
            "              precision    recall  f1-score   support\n",
            "\n",
            "         0.0       0.69      0.88      0.77        75\n",
            "         1.0       0.49      0.56      0.52        54\n",
            "         2.0       0.25      0.08      0.12        25\n",
            "         3.0       0.29      0.19      0.23        26\n",
            "         4.0       0.00      0.00      0.00         4\n",
            "\n",
            "    accuracy                           0.56       184\n",
            "   macro avg       0.34      0.34      0.33       184\n",
            "weighted avg       0.50      0.56      0.52       184\n",
            "\n",
            "ROC-AUC Score (Logistic Regression - Multi-Class): 0.83\n"
          ]
        },
        {
          "output_type": "display_data",
          "data": {
            "text/plain": [
              "<Figure size 640x480 with 2 Axes>"
            ],
            "image/png": "[encoded data removed]"
          },
          "metadata": {}
        }
      ]
    },
    {
      "cell_type": "code",
      "source": [
        "from sklearn.model_selection import GridSearchCV\n",
        "\n",
        "# Step 5: Define the hyperparameters grid\n",
        "param_grid = {\n",
        "    'C': [0.1, 1, 10, 100],  # Regularization strength\n",
        "    'penalty': ['l1', 'l2'],  # Regularization type\n",
        "    'solver': ['liblinear']   # Solver for 'l1' or 'l2' regularization\n",
        "}\n",
        "\n",
        "# Initialize the logistic regression model\n",
        "logreg = LogisticRegression(max_iter=1000)\n",
        "\n",
        "# Set up the GridSearchCV\n",
        "grid_search = GridSearchCV(logreg, param_grid, cv=5, scoring='roc_auc', verbose=1, n_jobs=-1)\n",
        "\n",
        "# Perform the grid search\n",
        "grid_search.fit(X_train_scaled, y_train)\n",
        "\n",
        "# Get the best hyperparameters\n",
        "best_params = grid_search.best_params_\n",
        "print(f\"Best Hyperparameters: {best_params}\")\n",
        "\n",
        "# Train the model with the best hyperparameters\n",
        "best_logreg = grid_search.best_estimator_\n",
        "\n",
        "# Make predictions on the test set\n",
        "y_pred_best_logreg = best_logreg.predict(X_test_scaled)\n",
        "\n",
        "# Evaluate the tuned model\n",
        "print(\"Tuned Logistic Regression - Classification Report:\")\n",
        "print(classification_report(y_test, y_pred_best_logreg))\n",
        "\n",
        "# Compute and print the ROC-AUC score for multi-class classification\n",
        "roc_auc_best_logreg = roc_auc_score(y_test, best_logreg.predict_proba(X_test_scaled), multi_class='ovr')\n",
        "print(f\"Tuned ROC-AUC Score (Logistic Regression - Multi-Class): {roc_auc_best_logreg:.2f}\")\n"
      ],
      "metadata": {
        "colab": {
          "base_uri": "https://localhost:8080/"
        },
        "id": "3rzltaX4pm0g",
        "outputId": "61e2b1e0-52b4-4979-c111-0dc823d631db"
      },
      "execution_count": 26,
      "outputs": [
        {
          "output_type": "stream",
          "name": "stdout",
          "text": [
            "Fitting 5 folds for each of 8 candidates, totalling 40 fits\n",
            "Best Hyperparameters: {'C': 0.1, 'penalty': 'l1', 'solver': 'liblinear'}\n",
            "Tuned Logistic Regression - Classification Report:\n",
            "              precision    recall  f1-score   support\n",
            "\n",
            "         0.0       0.63      0.92      0.75        75\n",
            "         1.0       0.44      0.52      0.48        54\n",
            "         2.0       0.25      0.04      0.07        25\n",
            "         3.0       0.12      0.04      0.06        26\n",
            "         4.0       0.00      0.00      0.00         4\n",
            "\n",
            "    accuracy                           0.54       184\n",
            "   macro avg       0.29      0.30      0.27       184\n",
            "weighted avg       0.44      0.54      0.46       184\n",
            "\n",
            "Tuned ROC-AUC Score (Logistic Regression - Multi-Class): 0.82\n"
          ]
        },
        {
          "output_type": "stream",
          "name": "stderr",
          "text": [
            "/usr/local/lib/python3.10/dist-packages/sklearn/model_selection/_search.py:1103: UserWarning: One or more of the test scores are non-finite: [nan nan nan nan nan nan nan nan]\n",
            "  warnings.warn(\n",
            "/usr/local/lib/python3.10/dist-packages/sklearn/metrics/_classification.py:1531: UndefinedMetricWarning: Precision is ill-defined and being set to 0.0 in labels with no predicted samples. Use `zero_division` parameter to control this behavior.\n",
            "  _warn_prf(average, modifier, f\"{metric.capitalize()} is\", len(result))\n",
            "/usr/local/lib/python3.10/dist-packages/sklearn/metrics/_classification.py:1531: UndefinedMetricWarning: Precision is ill-defined and being set to 0.0 in labels with no predicted samples. Use `zero_division` parameter to control this behavior.\n",
            "  _warn_prf(average, modifier, f\"{metric.capitalize()} is\", len(result))\n",
            "/usr/local/lib/python3.10/dist-packages/sklearn/metrics/_classification.py:1531: UndefinedMetricWarning: Precision is ill-defined and being set to 0.0 in labels with no predicted samples. Use `zero_division` parameter to control this behavior.\n",
            "  _warn_prf(average, modifier, f\"{metric.capitalize()} is\", len(result))\n"
          ]
        }
      ]
    },
    {
      "cell_type": "code",
      "source": [
        "from sklearn.ensemble import RandomForestClassifier\n",
        "from sklearn.svm import SVC\n",
        "\n",
        "# Step 6: Train and evaluate Random Forest\n",
        "rf = RandomForestClassifier(n_estimators=100, random_state=42)\n",
        "rf.fit(X_train_scaled, y_train)\n",
        "y_pred_rf = rf.predict(X_test_scaled)\n",
        "\n",
        "# Evaluate Random Forest\n",
        "print(\"Random Forest - Classification Report:\")\n",
        "print(classification_report(y_test, y_pred_rf))\n",
        "roc_auc_rf = roc_auc_score(y_test, rf.predict_proba(X_test_scaled), multi_class='ovr')\n",
        "print(f\"ROC-AUC Score (Random Forest - Multi-Class): {roc_auc_rf:.2f}\")\n",
        "\n",
        "# Step 7: Train and evaluate SVM\n",
        "svm = SVC(probability=True, random_state=42)\n",
        "svm.fit(X_train_scaled, y_train)\n",
        "y_pred_svm = svm.predict(X_test_scaled)\n",
        "\n",
        "# Evaluate SVM\n",
        "print(\"SVM - Classification Report:\")\n",
        "print(classification_report(y_test, y_pred_svm))\n",
        "roc_auc_svm = roc_auc_score(y_test, svm.predict_proba(X_test_scaled), multi_class='ovr')\n",
        "print(f\"ROC-AUC Score (SVM - Multi-Class): {roc_auc_svm:.2f}\")\n"
      ],
      "metadata": {
        "colab": {
          "base_uri": "https://localhost:8080/"
        },
        "id": "9zqX2fu2pnAw",
        "outputId": "9a1cf7c5-1843-46db-9ac3-355dc341381a"
      },
      "execution_count": 27,
      "outputs": [
        {
          "output_type": "stream",
          "name": "stdout",
          "text": [
            "Random Forest - Classification Report:\n",
            "              precision    recall  f1-score   support\n",
            "\n",
            "         0.0       0.72      0.97      0.82        75\n",
            "         1.0       0.62      0.56      0.59        54\n",
            "         2.0       0.38      0.24      0.29        25\n",
            "         3.0       0.41      0.27      0.33        26\n",
            "         4.0       0.00      0.00      0.00         4\n",
            "\n",
            "    accuracy                           0.63       184\n",
            "   macro avg       0.43      0.41      0.41       184\n",
            "weighted avg       0.58      0.63      0.59       184\n",
            "\n",
            "ROC-AUC Score (Random Forest - Multi-Class): 0.82\n",
            "SVM - Classification Report:\n",
            "              precision    recall  f1-score   support\n",
            "\n",
            "         0.0       0.72      0.91      0.80        75\n",
            "         1.0       0.46      0.56      0.50        54\n",
            "         2.0       0.11      0.04      0.06        25\n",
            "         3.0       0.19      0.12      0.14        26\n",
            "         4.0       0.00      0.00      0.00         4\n",
            "\n",
            "    accuracy                           0.55       184\n",
            "   macro avg       0.30      0.32      0.30       184\n",
            "weighted avg       0.47      0.55      0.50       184\n",
            "\n",
            "ROC-AUC Score (SVM - Multi-Class): 0.83\n"
          ]
        },
        {
          "output_type": "stream",
          "name": "stderr",
          "text": [
            "/usr/local/lib/python3.10/dist-packages/sklearn/metrics/_classification.py:1531: UndefinedMetricWarning: Precision is ill-defined and being set to 0.0 in labels with no predicted samples. Use `zero_division` parameter to control this behavior.\n",
            "  _warn_prf(average, modifier, f\"{metric.capitalize()} is\", len(result))\n",
            "/usr/local/lib/python3.10/dist-packages/sklearn/metrics/_classification.py:1531: UndefinedMetricWarning: Precision is ill-defined and being set to 0.0 in labels with no predicted samples. Use `zero_division` parameter to control this behavior.\n",
            "  _warn_prf(average, modifier, f\"{metric.capitalize()} is\", len(result))\n",
            "/usr/local/lib/python3.10/dist-packages/sklearn/metrics/_classification.py:1531: UndefinedMetricWarning: Precision is ill-defined and being set to 0.0 in labels with no predicted samples. Use `zero_division` parameter to control this behavior.\n",
            "  _warn_prf(average, modifier, f\"{metric.capitalize()} is\", len(result))\n"
          ]
        }
      ]
    },
    {
      "cell_type": "code",
      "source": [
        "# Step 7: Hyperparameter Tuning for SVM using GridSearchCV\n",
        "param_grid_svm = {\n",
        "    'C': [0.1, 1, 10, 100],\n",
        "    'kernel': ['linear', 'rbf', 'poly'],\n",
        "    'gamma': ['scale', 'auto']\n",
        "}\n",
        "\n",
        "# Initialize SVM model\n",
        "svm = SVC(probability=True, random_state=42)\n",
        "\n",
        "# Set up the GridSearchCV for SVM\n",
        "grid_search_svm = GridSearchCV(svm, param_grid_svm, cv=5, scoring='roc_auc', verbose=1, n_jobs=-1)\n",
        "\n",
        "# Perform grid search\n",
        "grid_search_svm.fit(X_train_scaled, y_train)\n",
        "\n",
        "# Get the best hyperparameters for SVM\n",
        "best_params_svm = grid_search_svm.best_params_\n",
        "print(f\"Best Hyperparameters for SVM: {best_params_svm}\")\n",
        "\n",
        "# Train the best SVM model\n",
        "best_svm = grid_search_svm.best_estimator_\n",
        "\n",
        "# Make predictions with the best SVM model\n",
        "y_pred_best_svm = best_svm.predict(X_test_scaled)\n",
        "\n",
        "# Evaluate the tuned SVM model\n",
        "print(\"Tuned SVM - Classification Report:\")\n",
        "print(classification_report(y_test, y_pred_best_svm))\n",
        "\n",
        "# Compute and print the ROC-AUC score for the tuned SVM\n",
        "roc_auc_best_svm = roc_auc_score(y_test, best_svm.predict_proba(X_test_scaled), multi_class='ovr')\n",
        "print(f\"Tuned ROC-AUC Score (SVM - Multi-Class): {roc_auc_best_svm:.2f}\")"
      ],
      "metadata": {
        "colab": {
          "base_uri": "https://localhost:8080/"
        },
        "id": "SqWLBDk_pnDr",
        "outputId": "5060706b-1db3-41af-e902-0cad348de5e5"
      },
      "execution_count": 28,
      "outputs": [
        {
          "output_type": "stream",
          "name": "stdout",
          "text": [
            "Fitting 5 folds for each of 24 candidates, totalling 120 fits\n"
          ]
        },
        {
          "output_type": "stream",
          "name": "stderr",
          "text": [
            "/usr/local/lib/python3.10/dist-packages/sklearn/model_selection/_search.py:1103: UserWarning: One or more of the test scores are non-finite: [nan nan nan nan nan nan nan nan nan nan nan nan nan nan nan nan nan nan\n",
            " nan nan nan nan nan nan]\n",
            "  warnings.warn(\n"
          ]
        },
        {
          "output_type": "stream",
          "name": "stdout",
          "text": [
            "Best Hyperparameters for SVM: {'C': 0.1, 'gamma': 'scale', 'kernel': 'linear'}\n",
            "Tuned SVM - Classification Report:\n",
            "              precision    recall  f1-score   support\n",
            "\n",
            "         0.0       0.67      0.91      0.77        75\n",
            "         1.0       0.49      0.57      0.53        54\n",
            "         2.0       0.17      0.04      0.06        25\n",
            "         3.0       0.23      0.12      0.15        26\n",
            "         4.0       0.00      0.00      0.00         4\n",
            "\n",
            "    accuracy                           0.56       184\n",
            "   macro avg       0.31      0.33      0.30       184\n",
            "weighted avg       0.47      0.56      0.50       184\n",
            "\n",
            "Tuned ROC-AUC Score (SVM - Multi-Class): 0.83\n"
          ]
        },
        {
          "output_type": "stream",
          "name": "stderr",
          "text": [
            "/usr/local/lib/python3.10/dist-packages/sklearn/metrics/_classification.py:1531: UndefinedMetricWarning: Precision is ill-defined and being set to 0.0 in labels with no predicted samples. Use `zero_division` parameter to control this behavior.\n",
            "  _warn_prf(average, modifier, f\"{metric.capitalize()} is\", len(result))\n",
            "/usr/local/lib/python3.10/dist-packages/sklearn/metrics/_classification.py:1531: UndefinedMetricWarning: Precision is ill-defined and being set to 0.0 in labels with no predicted samples. Use `zero_division` parameter to control this behavior.\n",
            "  _warn_prf(average, modifier, f\"{metric.capitalize()} is\", len(result))\n",
            "/usr/local/lib/python3.10/dist-packages/sklearn/metrics/_classification.py:1531: UndefinedMetricWarning: Precision is ill-defined and being set to 0.0 in labels with no predicted samples. Use `zero_division` parameter to control this behavior.\n",
            "  _warn_prf(average, modifier, f\"{metric.capitalize()} is\", len(result))\n"
          ]
        }
      ]
    },
    {
      "cell_type": "code",
      "source": [
        "# Logistic Regression Model (already tuned and trained in previous steps)\n",
        "y_pred_logreg = best_logreg.predict(X_test_scaled)\n",
        "\n",
        "# Evaluate Logistic Regression\n",
        "print(\"Tuned Logistic Regression - Classification Report:\")\n",
        "print(classification_report(y_test, y_pred_logreg))\n",
        "roc_auc_logreg = roc_auc_score(y_test, best_logreg.predict_proba(X_test_scaled), multi_class='ovr')\n",
        "print(f\"Tuned ROC-AUC Score (Logistic Regression - Multi-Class): {roc_auc_logreg:.2f}\")\n",
        "\n",
        "# SVM Model (tuned in the previous step)\n",
        "y_pred_best_svm = best_svm.predict(X_test_scaled)\n",
        "\n",
        "# Evaluate Tuned SVM\n",
        "print(\"Tuned SVM - Classification Report:\")\n",
        "print(classification_report(y_test, y_pred_best_svm))\n",
        "roc_auc_best_svm = roc_auc_score(y_test, best_svm.predict_proba(X_test_scaled), multi_class='ovr')\n",
        "print(f\"Tuned ROC-AUC Score (SVM - Multi-Class): {roc_auc_best_svm:.2f}\")"
      ],
      "metadata": {
        "colab": {
          "base_uri": "https://localhost:8080/"
        },
        "id": "W1tnv9A8pnGV",
        "outputId": "23f795ec-fe6a-4005-910e-a00348a507b2"
      },
      "execution_count": 29,
      "outputs": [
        {
          "output_type": "stream",
          "name": "stdout",
          "text": [
            "Tuned Logistic Regression - Classification Report:\n",
            "              precision    recall  f1-score   support\n",
            "\n",
            "         0.0       0.63      0.92      0.75        75\n",
            "         1.0       0.44      0.52      0.48        54\n",
            "         2.0       0.25      0.04      0.07        25\n",
            "         3.0       0.12      0.04      0.06        26\n",
            "         4.0       0.00      0.00      0.00         4\n",
            "\n",
            "    accuracy                           0.54       184\n",
            "   macro avg       0.29      0.30      0.27       184\n",
            "weighted avg       0.44      0.54      0.46       184\n",
            "\n",
            "Tuned ROC-AUC Score (Logistic Regression - Multi-Class): 0.82\n",
            "Tuned SVM - Classification Report:\n",
            "              precision    recall  f1-score   support\n",
            "\n",
            "         0.0       0.67      0.91      0.77        75\n",
            "         1.0       0.49      0.57      0.53        54\n",
            "         2.0       0.17      0.04      0.06        25\n",
            "         3.0       0.23      0.12      0.15        26\n",
            "         4.0       0.00      0.00      0.00         4\n",
            "\n",
            "    accuracy                           0.56       184\n",
            "   macro avg       0.31      0.33      0.30       184\n",
            "weighted avg       0.47      0.56      0.50       184\n",
            "\n",
            "Tuned ROC-AUC Score (SVM - Multi-Class): 0.83\n"
          ]
        },
        {
          "output_type": "stream",
          "name": "stderr",
          "text": [
            "/usr/local/lib/python3.10/dist-packages/sklearn/metrics/_classification.py:1531: UndefinedMetricWarning: Precision is ill-defined and being set to 0.0 in labels with no predicted samples. Use `zero_division` parameter to control this behavior.\n",
            "  _warn_prf(average, modifier, f\"{metric.capitalize()} is\", len(result))\n",
            "/usr/local/lib/python3.10/dist-packages/sklearn/metrics/_classification.py:1531: UndefinedMetricWarning: Precision is ill-defined and being set to 0.0 in labels with no predicted samples. Use `zero_division` parameter to control this behavior.\n",
            "  _warn_prf(average, modifier, f\"{metric.capitalize()} is\", len(result))\n",
            "/usr/local/lib/python3.10/dist-packages/sklearn/metrics/_classification.py:1531: UndefinedMetricWarning: Precision is ill-defined and being set to 0.0 in labels with no predicted samples. Use `zero_division` parameter to control this behavior.\n",
            "  _warn_prf(average, modifier, f\"{metric.capitalize()} is\", len(result))\n",
            "/usr/local/lib/python3.10/dist-packages/sklearn/metrics/_classification.py:1531: UndefinedMetricWarning: Precision is ill-defined and being set to 0.0 in labels with no predicted samples. Use `zero_division` parameter to control this behavior.\n",
            "  _warn_prf(average, modifier, f\"{metric.capitalize()} is\", len(result))\n",
            "/usr/local/lib/python3.10/dist-packages/sklearn/metrics/_classification.py:1531: UndefinedMetricWarning: Precision is ill-defined and being set to 0.0 in labels with no predicted samples. Use `zero_division` parameter to control this behavior.\n",
            "  _warn_prf(average, modifier, f\"{metric.capitalize()} is\", len(result))\n",
            "/usr/local/lib/python3.10/dist-packages/sklearn/metrics/_classification.py:1531: UndefinedMetricWarning: Precision is ill-defined and being set to 0.0 in labels with no predicted samples. Use `zero_division` parameter to control this behavior.\n",
            "  _warn_prf(average, modifier, f\"{metric.capitalize()} is\", len(result))\n"
          ]
        }
      ]
    },
    {
      "cell_type": "code",
      "source": [
        "from sklearn.ensemble import GradientBoostingClassifier\n",
        "from sklearn.metrics import classification_report, roc_auc_score, confusion_matrix\n",
        "import seaborn as sns\n",
        "import matplotlib.pyplot as plt\n",
        "\n",
        "# Step 9: Train Gradient Boosting Classifier\n",
        "gbc = GradientBoostingClassifier(random_state=42)\n",
        "gbc.fit(X_train_scaled, y_train)\n",
        "\n",
        "# Make predictions on the test set\n",
        "y_pred_gbc = gbc.predict(X_test_scaled)\n",
        "\n",
        "# Evaluate Gradient Boosting Classifier\n",
        "print(\"Gradient Boosting Classifier - Classification Report:\")\n",
        "print(classification_report(y_test, y_pred_gbc))\n",
        "\n",
        "# Compute and print the ROC-AUC score for multi-class classification\n",
        "roc_auc_gbc = roc_auc_score(y_test, gbc.predict_proba(X_test_scaled), multi_class='ovr')\n",
        "print(f\"ROC-AUC Score (Gradient Boosting Classifier - Multi-Class): {roc_auc_gbc:.2f}\")\n",
        "\n",
        "# Confusion Matrix\n",
        "cm = confusion_matrix(y_test, y_pred_gbc)\n",
        "sns.heatmap(cm, annot=True, fmt='d', cmap='Blues')\n",
        "plt.title(\"Confusion Matrix - Gradient Boosting Classifier\")\n",
        "plt.show()"
      ],
      "metadata": {
        "colab": {
          "base_uri": "https://localhost:8080/",
          "height": 695
        },
        "id": "_F3PDwznpnIx",
        "outputId": "98653a78-d528-4f16-fa23-5eed520112ae"
      },
      "execution_count": 30,
      "outputs": [
        {
          "output_type": "stream",
          "name": "stdout",
          "text": [
            "Gradient Boosting Classifier - Classification Report:\n",
            "              precision    recall  f1-score   support\n",
            "\n",
            "         0.0       0.68      0.89      0.77        75\n",
            "         1.0       0.57      0.57      0.57        54\n",
            "         2.0       0.40      0.24      0.30        25\n",
            "         3.0       0.46      0.23      0.31        26\n",
            "         4.0       0.33      0.25      0.29         4\n",
            "\n",
            "    accuracy                           0.60       184\n",
            "   macro avg       0.49      0.44      0.45       184\n",
            "weighted avg       0.57      0.60      0.57       184\n",
            "\n",
            "ROC-AUC Score (Gradient Boosting Classifier - Multi-Class): 0.84\n"
          ]
        },
        {
          "output_type": "display_data",
          "data": {
            "text/plain": [
              "<Figure size 640x480 with 2 Axes>"
            ],
            "image/png": "[encoded data removed]"
          },
          "metadata": {}
        }
      ]
    },
    {
      "cell_type": "code",
      "source": [
        "# Summary of ROC-AUC Scores for all models\n",
        "roc_auc_scores = {\n",
        "    'Logistic Regression': roc_auc_logreg,\n",
        "    'SVM': roc_auc_best_svm,\n",
        "    'Gradient Boosting Classifier': roc_auc_gbc\n",
        "}\n",
        "\n",
        "# Print ROC-AUC Scores\n",
        "for model, score in roc_auc_scores.items():\n",
        "    print(f\"{model} ROC-AUC Score: {score:.2f}\")"
      ],
      "metadata": {
        "colab": {
          "base_uri": "https://localhost:8080/"
        },
        "id": "1GZgbLwepnLL",
        "outputId": "4207f6f8-0b46-4715-b970-45406c6f8eaf"
      },
      "execution_count": 31,
      "outputs": [
        {
          "output_type": "stream",
          "name": "stdout",
          "text": [
            "Logistic Regression ROC-AUC Score: 0.82\n",
            "SVM ROC-AUC Score: 0.83\n",
            "Gradient Boosting Classifier ROC-AUC Score: 0.84\n"
          ]
        }
      ]
    },
    {
      "cell_type": "code",
      "source": [
        "import joblib\n",
        "\n",
        "# Assuming the best model is the Gradient Boosting Classifier (replace with the chosen model)\n",
        "best_model = gbc  # Or replace with the selected model (e.g., best_logreg or best_svm)\n",
        "\n",
        "# Save the best model to a file\n",
        "joblib.dump(best_model, 'best_model.pkl')\n",
        "\n",
        "# To load the model in the future:\n",
        "# best_model = joblib.load('best_model.pkl')"
      ],
      "metadata": {
        "colab": {
          "base_uri": "https://localhost:8080/"
        },
        "id": "8GrzYnflpnNp",
        "outputId": "7f3dcf01-0be7-40d5-bc7f-d1b183f94cd8"
      },
      "execution_count": 32,
      "outputs": [
        {
          "output_type": "execute_result",
          "data": {
            "text/plain": [
              "['best_model.pkl']"
            ]
          },
          "metadata": {},
          "execution_count": 32
        }
      ]
    }
  ]
}